{
 "cells": [
  {
   "cell_type": "code",
   "execution_count": 12,
   "id": "86500d9b",
   "metadata": {},
   "outputs": [
    {
     "name": "stdout",
     "output_type": "stream",
     "text": [
      "[1, 2, 3, 5, 4]\n"
     ]
    }
   ],
   "source": [
    "#simple BFS\n",
    "def bfs(graph,start):\n",
    "    frontier=[]\n",
    "    explored=[]\n",
    "    frontier.append(start)\n",
    "    while(frontier):\n",
    "        x=frontier.pop(0)\n",
    "        if x not in explored:\n",
    "                 explored.append(x)\n",
    "                 for i in graph[x]:\n",
    "                    if i not in explored:\n",
    "                          frontier.append(i)\n",
    "    print(explored)\n",
    "    \n",
    "graph={1:[2,3,5],2:[1,4],3:[1,4,5],4:[2,3],5:[1,3]}\n",
    "#graph={0:[1,2],1:[0,2,3],2:[0,1,3],3:[1,2,4],4:[0,3]}\n",
    "start=1\n",
    "if start in graph :\n",
    "     bfs(graph,start)"
   ]
  },
  {
   "cell_type": "code",
   "execution_count": 13,
   "id": "64522de3",
   "metadata": {},
   "outputs": [
    {
     "name": "stdout",
     "output_type": "stream",
     "text": [
      "[1, 5, 3, 4, 2]\n"
     ]
    }
   ],
   "source": [
    "#simple Dfs\n",
    "def dfs(graph,start):\n",
    "    frontier=[]\n",
    "    explored=[]\n",
    "    frontier.append(start)\n",
    "    while(frontier):\n",
    "        x=frontier.pop()\n",
    "        if x not in explored:\n",
    "                 explored.append(x)\n",
    "                 for i in graph[x]:\n",
    "                    if i not in explored:\n",
    "                          frontier.append(i)\n",
    "    print(explored)\n",
    "    \n",
    "graph={1:[2,3,5],2:[1,4],3:[1,4,5],4:[2,3],5:[1,3]}\n",
    "#graph={0:[1,2],1:[0,2,3],2:[0,1,3],3:[1,2,4],4:[0,3]}\n",
    "start=1\n",
    "if start in graph :\n",
    "     dfs(graph,start)"
   ]
  },
  {
   "cell_type": "code",
   "execution_count": 20,
   "id": "7bcdd499",
   "metadata": {},
   "outputs": [],
   "source": [
    "#Goal Node verification using Bfs\n",
    "\n",
    "def bfs(graph,start,goal):\n",
    "    frontier=[]\n",
    "    explored=[]\n",
    "    frontier.append(start)\n",
    "    while(frontier):\n",
    "        x=frontier.pop(0)\n",
    "        if x not in explored:\n",
    "            if goal not in explored:\n",
    "                     explored.append(x)\n",
    "                     for i in graph[x]:\n",
    "                        if i not in explored:\n",
    "                              frontier.append(i)\n",
    "\n",
    "    if goal not in explored:\n",
    "         print(\"Goal node not found\")\n",
    "    \n",
    "graph={1:[2,3,5],2:[1,4],3:[1,4,5],4:[2,3],5:[1,3]}\n",
    "#graph={0:[1,2],1:[0,2,3],2:[0,1,3],3:[1,2,4],4:[0,3]}\n",
    "start=1\n",
    "goal=5\n",
    "if start in graph :\n",
    "     bfs(graph,start,goal)"
   ]
  },
  {
   "cell_type": "code",
   "execution_count": 40,
   "id": "f9bb71e0",
   "metadata": {},
   "outputs": [
    {
     "name": "stdout",
     "output_type": "stream",
     "text": [
      "path to goal node =  [1, 2]\n"
     ]
    }
   ],
   "source": [
    "#simple BFS\n",
    "def bfs(graph,start,goal):\n",
    "    frontier=[]\n",
    "    explored=[]\n",
    "    frontier.append(start)\n",
    "    while(frontier):\n",
    "        x=frontier.pop(0)\n",
    "        if x not in explored:\n",
    "            if x==goal:\n",
    "                    break\n",
    "            else:\n",
    "                    explored.append(x)\n",
    "                    for i in graph[x]:\n",
    "                         if i not in explored:\n",
    "                                frontier.append(i)\n",
    "    print(\"path to goal node = \",explored)\n",
    "    \n",
    "graph={1:[2,3,5],2:[1,4],3:[1,4,5],4:[2,3],5:[1,3]}\n",
    "#graph={0:[1,2],1:[0,2,3],2:[0,1,3],3:[1,2,4],4:[0,3]}\n",
    "start=1\n",
    "goal=3\n",
    "if start in graph :\n",
    "     bfs(graph,start,goal)"
   ]
  },
  {
   "cell_type": "code",
   "execution_count": 41,
   "id": "e3ab9414",
   "metadata": {},
   "outputs": [
    {
     "name": "stdout",
     "output_type": "stream",
     "text": [
      "path to goal node =  [1, 5]\n"
     ]
    }
   ],
   "source": [
    "#Goal Node verification using Dfs\n",
    "\n",
    "def dfs(graph,start,goal):\n",
    "    frontier=[]\n",
    "    explored=[]\n",
    "    frontier.append(start)\n",
    "    while(frontier):\n",
    "        x=frontier.pop()\n",
    "        if x not in explored:\n",
    "            if x==goal:\n",
    "                    break\n",
    "            else:\n",
    "                    explored.append(x)\n",
    "                    for i in graph[x]:\n",
    "                         if i not in explored:\n",
    "                                frontier.append(i)\n",
    "    print(\"path to goal node = \",explored)\n",
    "    \n",
    "graph={1:[2,3,5],2:[1,4],3:[1,4,5],4:[2,3],5:[1,3]}\n",
    "#graph={0:[1,2],1:[0,2,3],2:[0,1,3],3:[1,2,4],4:[0,3]}\n",
    "start=1\n",
    "goal=3\n",
    "if start in graph :\n",
    "     dfs(graph,start,goal)"
   ]
  },
  {
   "cell_type": "code",
   "execution_count": 81,
   "id": "ae14a38e",
   "metadata": {},
   "outputs": [
    {
     "name": "stdout",
     "output_type": "stream",
     "text": [
      "\n",
      "Path FROM ROOT TO ALL NODES:\n",
      "1\n",
      "1<-2\n",
      "1<-2<-3\n",
      "1<-4\n",
      "1<-4<-5\n",
      "\n",
      "(node, parentNode) list:\n",
      "[(1, None), (2, 1), (4, 1), (3, 2), (5, 4)]\n"
     ]
    }
   ],
   "source": [
    "def bfs_with_parent(graph, start):\n",
    "    frontier = [start]\n",
    "    explored = []\n",
    "    parent_map = {start: None}\n",
    "\n",
    "    while frontier:\n",
    "        current_node = frontier.pop(0)\n",
    "\n",
    "        if current_node not in explored:\n",
    "            explored.append(current_node)\n",
    "\n",
    "            for neighbor in graph.get(current_node, []):\n",
    "                if neighbor not in explored and neighbor not in frontier:\n",
    "                    frontier.append(neighbor)\n",
    "                    parent_map[neighbor] = current_node\n",
    "\n",
    "    return parent_map\n",
    "\n",
    "def print_paths_to_root(parent_map):\n",
    "    for node, parent in sorted(parent_map.items()):\n",
    "        path = [node]\n",
    "        while parent is not None:\n",
    "            path.insert(0, parent)\n",
    "            parent = parent_map[parent]\n",
    "        print('<-'.join(map(str, path)))\n",
    "\n",
    "def main():\n",
    "    graph = {1: [2, 4], 2: [3], 3: [4], 4: [5], 5: [1]}\n",
    "    start = 1\n",
    "\n",
    "    parent_nodes = bfs_with_parent(graph, start)\n",
    "\n",
    "    print(\"\\nPath FROM ROOT TO ALL NODES:\")\n",
    "    print_paths_to_root(parent_nodes)\n",
    "\n",
    "    print(\"\\n(node, parentNode) list:\")\n",
    "    result = [(node, parent_nodes[node]) for node in parent_nodes]\n",
    "    print(result)\n",
    "\n",
    "if __name__ == \"__main__\":\n",
    "    main()\n"
   ]
  },
  {
   "cell_type": "code",
   "execution_count": null,
   "id": "540605c3",
   "metadata": {},
   "outputs": [],
   "source": []
  }
 ],
 "metadata": {
  "kernelspec": {
   "display_name": "Python 3 (ipykernel)",
   "language": "python",
   "name": "python3"
  },
  "language_info": {
   "codemirror_mode": {
    "name": "ipython",
    "version": 3
   },
   "file_extension": ".py",
   "mimetype": "text/x-python",
   "name": "python",
   "nbconvert_exporter": "python",
   "pygments_lexer": "ipython3",
   "version": "3.11.3"
  }
 },
 "nbformat": 4,
 "nbformat_minor": 5
}
